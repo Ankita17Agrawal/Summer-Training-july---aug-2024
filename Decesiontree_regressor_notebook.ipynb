{
 "cells": [
  {
   "cell_type": "code",
   "execution_count": 29,
   "id": "a4d2a8d0",
   "metadata": {
    "id": "a4d2a8d0"
   },
   "outputs": [],
   "source": [
    "import numpy as np\n",
    "import pandas as pd\n",
    "\n",
    "import matplotlib.pyplot as plt\n",
    "%matplotlib inline\n",
    "import seaborn as sns\n",
    "\n",
    "\n",
    "from sklearn.preprocessing import LabelEncoder\n",
    "from sklearn.preprocessing import StandardScaler, MinMaxScaler, RobustScaler\n",
    "\n",
    "from sklearn.model_selection import train_test_split\n",
    "from sklearn.linear_model import LogisticRegression\n",
    "from sklearn.metrics import classification_report\n",
    "from sklearn.metrics import plot_roc_curve\n",
    "\n",
    "from sklearn.tree import DecisionTreeClassifier\n",
    "from sklearn.tree import DecisionTreeRegressor"
   ]
  },
  {
   "cell_type": "code",
   "execution_count": 30,
   "id": "fa364057",
   "metadata": {
    "id": "fa364057"
   },
   "outputs": [],
   "source": [
    "factory = pd.read_csv('Factory_Salary.csv')"
   ]
  },
  {
   "cell_type": "code",
   "execution_count": 31,
   "id": "24c492e6",
   "metadata": {
    "id": "24c492e6",
    "outputId": "05d4160d-f171-4d1f-b714-7249daaa8918"
   },
   "outputs": [
    {
     "data": {
      "text/html": [
       "<div>\n",
       "<style scoped>\n",
       "    .dataframe tbody tr th:only-of-type {\n",
       "        vertical-align: middle;\n",
       "    }\n",
       "\n",
       "    .dataframe tbody tr th {\n",
       "        vertical-align: top;\n",
       "    }\n",
       "\n",
       "    .dataframe thead th {\n",
       "        text-align: right;\n",
       "    }\n",
       "</style>\n",
       "<table border=\"1\" class=\"dataframe\">\n",
       "  <thead>\n",
       "    <tr style=\"text-align: right;\">\n",
       "      <th></th>\n",
       "      <th>Date</th>\n",
       "      <th>Profession</th>\n",
       "      <th>Rank</th>\n",
       "      <th>Equipment</th>\n",
       "      <th>Insalubrity</th>\n",
       "      <th>Size_Production</th>\n",
       "      <th>Salary</th>\n",
       "    </tr>\n",
       "  </thead>\n",
       "  <tbody>\n",
       "    <tr>\n",
       "      <th>0</th>\n",
       "      <td>2009-01-01</td>\n",
       "      <td>Metal heater</td>\n",
       "      <td>7</td>\n",
       "      <td>Heating furnaces</td>\n",
       "      <td>22</td>\n",
       "      <td>580</td>\n",
       "      <td>26020.0</td>\n",
       "    </tr>\n",
       "    <tr>\n",
       "      <th>1</th>\n",
       "      <td>2009-01-01</td>\n",
       "      <td>Metal heater</td>\n",
       "      <td>6</td>\n",
       "      <td>Heating furnaces</td>\n",
       "      <td>22</td>\n",
       "      <td>580</td>\n",
       "      <td>22980.0</td>\n",
       "    </tr>\n",
       "    <tr>\n",
       "      <th>2</th>\n",
       "      <td>2009-01-01</td>\n",
       "      <td>Metal heater</td>\n",
       "      <td>5</td>\n",
       "      <td>Heating furnaces</td>\n",
       "      <td>22</td>\n",
       "      <td>580</td>\n",
       "      <td>20350.0</td>\n",
       "    </tr>\n",
       "    <tr>\n",
       "      <th>3</th>\n",
       "      <td>2009-01-01</td>\n",
       "      <td>Metal heater</td>\n",
       "      <td>5</td>\n",
       "      <td>Heating furnaces</td>\n",
       "      <td>22</td>\n",
       "      <td>580</td>\n",
       "      <td>20350.0</td>\n",
       "    </tr>\n",
       "    <tr>\n",
       "      <th>4</th>\n",
       "      <td>2009-01-01</td>\n",
       "      <td>Metal heater</td>\n",
       "      <td>4</td>\n",
       "      <td>Heating furnaces</td>\n",
       "      <td>22</td>\n",
       "      <td>580</td>\n",
       "      <td>18090.0</td>\n",
       "    </tr>\n",
       "  </tbody>\n",
       "</table>\n",
       "</div>"
      ],
      "text/plain": [
       "         Date    Profession  Rank         Equipment  Insalubrity  \\\n",
       "0  2009-01-01  Metal heater     7  Heating furnaces           22   \n",
       "1  2009-01-01  Metal heater     6  Heating furnaces           22   \n",
       "2  2009-01-01  Metal heater     5  Heating furnaces           22   \n",
       "3  2009-01-01  Metal heater     5  Heating furnaces           22   \n",
       "4  2009-01-01  Metal heater     4  Heating furnaces           22   \n",
       "\n",
       "   Size_Production   Salary  \n",
       "0              580  26020.0  \n",
       "1              580  22980.0  \n",
       "2              580  20350.0  \n",
       "3              580  20350.0  \n",
       "4              580  18090.0  "
      ]
     },
     "execution_count": 31,
     "metadata": {},
     "output_type": "execute_result"
    }
   ],
   "source": [
    "factory.head(5)"
   ]
  },
  {
   "cell_type": "code",
   "execution_count": 32,
   "id": "7383e12d",
   "metadata": {
    "id": "7383e12d",
    "outputId": "4d1b3bd3-9902-46ce-9b76-6af58b103239"
   },
   "outputs": [
    {
     "data": {
      "text/plain": [
       "Index(['Date', 'Profession', 'Rank', 'Equipment', 'Insalubrity',\n",
       "       'Size_Production', 'Salary'],\n",
       "      dtype='object')"
      ]
     },
     "execution_count": 32,
     "metadata": {},
     "output_type": "execute_result"
    }
   ],
   "source": [
    "factory.columns"
   ]
  },
  {
   "cell_type": "code",
   "execution_count": 33,
   "id": "159d6c33",
   "metadata": {
    "id": "159d6c33",
    "outputId": "20a93620-5319-4a8f-f4f7-30635759c720"
   },
   "outputs": [
    {
     "data": {
      "text/html": [
       "<div>\n",
       "<style scoped>\n",
       "    .dataframe tbody tr th:only-of-type {\n",
       "        vertical-align: middle;\n",
       "    }\n",
       "\n",
       "    .dataframe tbody tr th {\n",
       "        vertical-align: top;\n",
       "    }\n",
       "\n",
       "    .dataframe thead th {\n",
       "        text-align: right;\n",
       "    }\n",
       "</style>\n",
       "<table border=\"1\" class=\"dataframe\">\n",
       "  <thead>\n",
       "    <tr style=\"text-align: right;\">\n",
       "      <th></th>\n",
       "      <th>Rank</th>\n",
       "      <th>Insalubrity</th>\n",
       "      <th>Size_Production</th>\n",
       "      <th>Salary</th>\n",
       "    </tr>\n",
       "  </thead>\n",
       "  <tbody>\n",
       "    <tr>\n",
       "      <th>count</th>\n",
       "      <td>264.000000</td>\n",
       "      <td>264.000000</td>\n",
       "      <td>264.000000</td>\n",
       "      <td>264.000000</td>\n",
       "    </tr>\n",
       "    <tr>\n",
       "      <th>mean</th>\n",
       "      <td>4.909091</td>\n",
       "      <td>15.681818</td>\n",
       "      <td>988.333333</td>\n",
       "      <td>21030.461230</td>\n",
       "    </tr>\n",
       "    <tr>\n",
       "      <th>std</th>\n",
       "      <td>1.313600</td>\n",
       "      <td>6.682726</td>\n",
       "      <td>231.372715</td>\n",
       "      <td>4323.920780</td>\n",
       "    </tr>\n",
       "    <tr>\n",
       "      <th>min</th>\n",
       "      <td>3.000000</td>\n",
       "      <td>0.000000</td>\n",
       "      <td>580.000000</td>\n",
       "      <td>12180.000000</td>\n",
       "    </tr>\n",
       "    <tr>\n",
       "      <th>25%</th>\n",
       "      <td>4.000000</td>\n",
       "      <td>11.000000</td>\n",
       "      <td>805.000000</td>\n",
       "      <td>17830.000000</td>\n",
       "    </tr>\n",
       "    <tr>\n",
       "      <th>50%</th>\n",
       "      <td>5.000000</td>\n",
       "      <td>18.000000</td>\n",
       "      <td>985.000000</td>\n",
       "      <td>20350.000000</td>\n",
       "    </tr>\n",
       "    <tr>\n",
       "      <th>75%</th>\n",
       "      <td>6.000000</td>\n",
       "      <td>22.000000</td>\n",
       "      <td>1185.000000</td>\n",
       "      <td>23818.014706</td>\n",
       "    </tr>\n",
       "    <tr>\n",
       "      <th>max</th>\n",
       "      <td>7.000000</td>\n",
       "      <td>22.000000</td>\n",
       "      <td>1400.000000</td>\n",
       "      <td>33157.058824</td>\n",
       "    </tr>\n",
       "  </tbody>\n",
       "</table>\n",
       "</div>"
      ],
      "text/plain": [
       "             Rank  Insalubrity  Size_Production        Salary\n",
       "count  264.000000   264.000000       264.000000    264.000000\n",
       "mean     4.909091    15.681818       988.333333  21030.461230\n",
       "std      1.313600     6.682726       231.372715   4323.920780\n",
       "min      3.000000     0.000000       580.000000  12180.000000\n",
       "25%      4.000000    11.000000       805.000000  17830.000000\n",
       "50%      5.000000    18.000000       985.000000  20350.000000\n",
       "75%      6.000000    22.000000      1185.000000  23818.014706\n",
       "max      7.000000    22.000000      1400.000000  33157.058824"
      ]
     },
     "execution_count": 33,
     "metadata": {},
     "output_type": "execute_result"
    }
   ],
   "source": [
    "factory.describe()"
   ]
  },
  {
   "cell_type": "code",
   "execution_count": 34,
   "id": "d4502b81",
   "metadata": {},
   "outputs": [
    {
     "data": {
      "text/plain": [
       "(264, 7)"
      ]
     },
     "execution_count": 34,
     "metadata": {},
     "output_type": "execute_result"
    }
   ],
   "source": [
    "factory.shape"
   ]
  },
  {
   "cell_type": "code",
   "execution_count": 35,
   "id": "2e1bf3c0",
   "metadata": {},
   "outputs": [
    {
     "name": "stdout",
     "output_type": "stream",
     "text": [
      "<class 'pandas.core.frame.DataFrame'>\n",
      "RangeIndex: 264 entries, 0 to 263\n",
      "Data columns (total 7 columns):\n",
      " #   Column           Non-Null Count  Dtype  \n",
      "---  ------           --------------  -----  \n",
      " 0   Date             264 non-null    object \n",
      " 1   Profession       264 non-null    object \n",
      " 2   Rank             264 non-null    int64  \n",
      " 3   Equipment        264 non-null    object \n",
      " 4   Insalubrity      264 non-null    int64  \n",
      " 5   Size_Production  264 non-null    int64  \n",
      " 6   Salary           264 non-null    float64\n",
      "dtypes: float64(1), int64(3), object(3)\n",
      "memory usage: 14.6+ KB\n"
     ]
    }
   ],
   "source": [
    "factory.info()"
   ]
  },
  {
   "cell_type": "code",
   "execution_count": 36,
   "id": "af3d3af9",
   "metadata": {},
   "outputs": [
    {
     "data": {
      "text/plain": [
       "Date               0\n",
       "Profession         0\n",
       "Rank               0\n",
       "Equipment          0\n",
       "Insalubrity        0\n",
       "Size_Production    0\n",
       "Salary             0\n",
       "dtype: int64"
      ]
     },
     "execution_count": 36,
     "metadata": {},
     "output_type": "execute_result"
    }
   ],
   "source": [
    "factory.isna().sum()"
   ]
  },
  {
   "cell_type": "code",
   "execution_count": 37,
   "id": "6e635cf6",
   "metadata": {
    "id": "6e635cf6",
    "outputId": "3617bcc8-7051-4159-dea6-cf87f9073513"
   },
   "outputs": [
    {
     "name": "stdout",
     "output_type": "stream",
     "text": [
      "(264, 7)\n",
      "(264, 7)\n"
     ]
    },
    {
     "name": "stderr",
     "output_type": "stream",
     "text": [
      "/var/folders/8r/r02ft4g96gng27p7_46j1l9h0000gn/T/ipykernel_49011/2728474719.py:8: DeprecationWarning: `np.object` is a deprecated alias for the builtin `object`. To silence this warning, use `object` by itself. Doing this will not modify any behavior and is safe. \n",
      "Deprecated in NumPy 1.20; for more details and guidance: https://numpy.org/devdocs/release/1.20.0-notes.html#deprecations\n",
      "  obj = factory.select_dtypes(include = np.object)\n"
     ]
    }
   ],
   "source": [
    "## i have devided into numeric and obj data\n",
    "## then done standardisation on num features\n",
    "## label encoding on obj features\n",
    "## concat both the datasets:\n",
    "\n",
    "\n",
    "num = factory.select_dtypes(include = np.number)\n",
    "obj = factory.select_dtypes(include = np.object)\n",
    "\n",
    "from sklearn.preprocessing import StandardScaler\n",
    "feature_scaler = StandardScaler()\n",
    "num2 = feature_scaler.fit_transform(num)\n",
    "num2 = pd.DataFrame(num2,columns= num.columns)\n",
    "\n",
    "from sklearn.preprocessing import LabelEncoder\n",
    "le = LabelEncoder()\n",
    "\n",
    "obj2 = obj.apply(le.fit_transform)\n",
    "obj2.head(2)\n",
    "\n",
    "factory2 = pd.concat([num2,obj2],axis =1)\n",
    "print(factory.shape)\n",
    "\n",
    "print(factory2.shape)"
   ]
  },
  {
   "cell_type": "code",
   "execution_count": 44,
   "id": "8171aeae",
   "metadata": {
    "id": "8171aeae",
    "outputId": "6d292630-30ee-45da-ab0a-9405689b2667",
    "scrolled": true
   },
   "outputs": [
    {
     "data": {
      "text/html": [
       "<div>\n",
       "<style scoped>\n",
       "    .dataframe tbody tr th:only-of-type {\n",
       "        vertical-align: middle;\n",
       "    }\n",
       "\n",
       "    .dataframe tbody tr th {\n",
       "        vertical-align: top;\n",
       "    }\n",
       "\n",
       "    .dataframe thead th {\n",
       "        text-align: right;\n",
       "    }\n",
       "</style>\n",
       "<table border=\"1\" class=\"dataframe\">\n",
       "  <thead>\n",
       "    <tr style=\"text-align: right;\">\n",
       "      <th></th>\n",
       "      <th>Rank</th>\n",
       "      <th>Insalubrity</th>\n",
       "      <th>Size_Production</th>\n",
       "      <th>Salary</th>\n",
       "      <th>Date</th>\n",
       "      <th>Profession</th>\n",
       "      <th>Equipment</th>\n",
       "    </tr>\n",
       "  </thead>\n",
       "  <tbody>\n",
       "    <tr>\n",
       "      <th>0</th>\n",
       "      <td>1.594763</td>\n",
       "      <td>0.947245</td>\n",
       "      <td>-1.768181</td>\n",
       "      <td>1.156130</td>\n",
       "      <td>0</td>\n",
       "      <td>2</td>\n",
       "      <td>2</td>\n",
       "    </tr>\n",
       "    <tr>\n",
       "      <th>1</th>\n",
       "      <td>0.832050</td>\n",
       "      <td>0.947245</td>\n",
       "      <td>-1.768181</td>\n",
       "      <td>0.451729</td>\n",
       "      <td>0</td>\n",
       "      <td>2</td>\n",
       "      <td>2</td>\n",
       "    </tr>\n",
       "    <tr>\n",
       "      <th>2</th>\n",
       "      <td>0.069338</td>\n",
       "      <td>0.947245</td>\n",
       "      <td>-1.768181</td>\n",
       "      <td>-0.157670</td>\n",
       "      <td>0</td>\n",
       "      <td>2</td>\n",
       "      <td>2</td>\n",
       "    </tr>\n",
       "    <tr>\n",
       "      <th>3</th>\n",
       "      <td>0.069338</td>\n",
       "      <td>0.947245</td>\n",
       "      <td>-1.768181</td>\n",
       "      <td>-0.157670</td>\n",
       "      <td>0</td>\n",
       "      <td>2</td>\n",
       "      <td>2</td>\n",
       "    </tr>\n",
       "    <tr>\n",
       "      <th>4</th>\n",
       "      <td>-0.693375</td>\n",
       "      <td>0.947245</td>\n",
       "      <td>-1.768181</td>\n",
       "      <td>-0.681337</td>\n",
       "      <td>0</td>\n",
       "      <td>2</td>\n",
       "      <td>2</td>\n",
       "    </tr>\n",
       "  </tbody>\n",
       "</table>\n",
       "</div>"
      ],
      "text/plain": [
       "       Rank  Insalubrity  Size_Production    Salary  Date  Profession  \\\n",
       "0  1.594763     0.947245        -1.768181  1.156130     0           2   \n",
       "1  0.832050     0.947245        -1.768181  0.451729     0           2   \n",
       "2  0.069338     0.947245        -1.768181 -0.157670     0           2   \n",
       "3  0.069338     0.947245        -1.768181 -0.157670     0           2   \n",
       "4 -0.693375     0.947245        -1.768181 -0.681337     0           2   \n",
       "\n",
       "   Equipment  \n",
       "0          2  \n",
       "1          2  \n",
       "2          2  \n",
       "3          2  \n",
       "4          2  "
      ]
     },
     "execution_count": 44,
     "metadata": {},
     "output_type": "execute_result"
    }
   ],
   "source": [
    "factory2.head(5)"
   ]
  },
  {
   "cell_type": "code",
   "execution_count": 45,
   "id": "6a9f2eec",
   "metadata": {
    "id": "6a9f2eec",
    "outputId": "b49dec02-f501-4014-cedf-54a81e78302a"
   },
   "outputs": [
    {
     "data": {
      "text/plain": [
       "Index(['Rank', 'Insalubrity', 'Size_Production', 'Salary', 'Date',\n",
       "       'Profession', 'Equipment'],\n",
       "      dtype='object')"
      ]
     },
     "execution_count": 45,
     "metadata": {},
     "output_type": "execute_result"
    }
   ],
   "source": [
    "factory2.columns"
   ]
  },
  {
   "cell_type": "code",
   "execution_count": 49,
   "id": "eab3cc29",
   "metadata": {
    "id": "eab3cc29"
   },
   "outputs": [],
   "source": [
    "x = factory2[['Rank', 'Insalubrity', 'Size_Production','Profession', 'Equipment']]\n",
    "y = factory2['Salary']"
   ]
  },
  {
   "cell_type": "code",
   "execution_count": 50,
   "id": "7c9d2352",
   "metadata": {
    "id": "7c9d2352"
   },
   "outputs": [],
   "source": [
    "from sklearn.metrics import mean_squared_error,r2_score\n",
    "#from sklearn.feature_selection import RFE\n",
    "\n",
    "#rfe = RFE(DecisionTreeRegressor(),n_features_to_select=3)"
   ]
  },
  {
   "cell_type": "code",
   "execution_count": 51,
   "id": "39789682",
   "metadata": {
    "id": "39789682"
   },
   "outputs": [],
   "source": [
    "x_train,x_test,y_train,y_test = train_test_split(x,y,test_size = 0.20)"
   ]
  },
  {
   "cell_type": "code",
   "execution_count": 54,
   "id": "070318d7",
   "metadata": {
    "id": "070318d7",
    "outputId": "23a1d12f-868b-4514-a2a4-b8353bfb349d"
   },
   "outputs": [
    {
     "data": {
      "text/plain": [
       "DecisionTreeRegressor()"
      ]
     },
     "execution_count": 54,
     "metadata": {},
     "output_type": "execute_result"
    }
   ],
   "source": [
    "model = DecisionTreeRegressor()\n",
    "model.fit(x_train,y_train)"
   ]
  },
  {
   "cell_type": "code",
   "execution_count": 56,
   "id": "a551c427",
   "metadata": {
    "id": "a551c427"
   },
   "outputs": [],
   "source": [
    "pred = model.predict(x_test)"
   ]
  },
  {
   "cell_type": "code",
   "execution_count": 57,
   "id": "e6c461bc",
   "metadata": {
    "id": "e6c461bc",
    "outputId": "d6b67f32-7acd-4165-a355-a568ba8d1fcf"
   },
   "outputs": [
    {
     "name": "stdout",
     "output_type": "stream",
     "text": [
      "0.013284184860938289\n",
      "0.98374132672298\n"
     ]
    }
   ],
   "source": [
    "print(mean_squared_error(y_test,pred))\n",
    "print(r2_score(y_test,pred))"
   ]
  },
  {
   "cell_type": "code",
   "execution_count": 58,
   "id": "b8640a63",
   "metadata": {
    "id": "b8640a63",
    "outputId": "ead45d2c-8018-4b97-ff1e-9c58f7deeb7d"
   },
   "outputs": [],
   "source": [
    "## Build decesion tree regressor considering \"salary\" as target and the \"pro,rank,equip, insa,size_produc\" as my \n",
    "#features \n",
    "## and validate your model by caluctaing  mean squared error :\n",
    "\n",
    "## EDA code:\n",
    "## how to find the distribution of target variable as\"Salary\".. by histogram:\n",
    "#plt.hist(factory['Salary'])\n",
    "\n",
    "## how to find the distribution of numeric variable by box plot, violin plot...\n",
    "\n",
    "#sns.boxplot(factory['Insalubrity'])\n",
    "## label encoding:\n",
    "\n",
    "\n",
    "## what model you build :\n",
    "\n",
    "\n",
    "## what is your mean absolute error value :\n",
    "\n",
    "\n"
   ]
  },
  {
   "cell_type": "code",
   "execution_count": null,
   "id": "c3a455d2",
   "metadata": {
    "id": "c3a455d2",
    "outputId": "026882e1-4935-490d-c5b3-c21297e37515"
   },
   "outputs": [
    {
     "data": {
      "text/plain": [
       "{'whiskers': [<matplotlib.lines.Line2D at 0x7ff150665610>,\n",
       "  <matplotlib.lines.Line2D at 0x7ff1506659a0>],\n",
       " 'caps': [<matplotlib.lines.Line2D at 0x7ff150665d30>,\n",
       "  <matplotlib.lines.Line2D at 0x7ff1506ce100>],\n",
       " 'boxes': [<matplotlib.lines.Line2D at 0x7ff150665280>],\n",
       " 'medians': [<matplotlib.lines.Line2D at 0x7ff1506ce490>],\n",
       " 'fliers': [<matplotlib.lines.Line2D at 0x7ff1506ce820>],\n",
       " 'means': []}"
      ]
     },
     "execution_count": 14,
     "metadata": {},
     "output_type": "execute_result"
    },
    {
     "data": {
      "image/png": "[encoded data removed]",
      "text/plain": [
       "<Figure size 432x288 with 1 Axes>"
      ]
     },
     "metadata": {
      "needs_background": "light"
     },
     "output_type": "display_data"
    }
   ],
   "source": [
    "plt.boxplot(factory['Insalubrity'])\n",
    "## label encoding:"
   ]
  },
  {
   "cell_type": "code",
   "execution_count": null,
   "id": "7d778bee",
   "metadata": {
    "id": "7d778bee"
   },
   "outputs": [],
   "source": []
  }
 ],
 "metadata": {
  "colab": {
   "collapsed_sections": [],
   "provenance": []
  },
  "kernelspec": {
   "display_name": "Python 3 (ipykernel)",
   "language": "python",
   "name": "python3"
  },
  "language_info": {
   "codemirror_mode": {
    "name": "ipython",
    "version": 3
   },
   "file_extension": ".py",
   "mimetype": "text/x-python",
   "name": "python",
   "nbconvert_exporter": "python",
   "pygments_lexer": "ipython3",
   "version": "3.9.7"
  }
 },
 "nbformat": 4,
 "nbformat_minor": 5
}
