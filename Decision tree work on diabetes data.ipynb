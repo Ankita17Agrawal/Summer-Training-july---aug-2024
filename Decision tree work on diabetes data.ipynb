{
 "cells": [
  {
   "cell_type": "code",
   "execution_count": 1,
   "id": "122b5938",
   "metadata": {},
   "outputs": [],
   "source": [
    "import numpy as np\n",
    "import pandas as pd\n",
    "import seaborn as sns\n",
    "import matplotlib.pyplot as plt\n",
    "from sklearn.tree import DecisionTreeClassifier  \n",
    "from sklearn.model_selection import train_test_split\n",
    "from sklearn.linear_model import *\n",
    "from sklearn.metrics import confusion_matrix"
   ]
  },
  {
   "cell_type": "code",
   "execution_count": 2,
   "id": "b43a1b7c",
   "metadata": {},
   "outputs": [
    {
     "data": {
      "text/html": [
       "<div>\n",
       "<style scoped>\n",
       "    .dataframe tbody tr th:only-of-type {\n",
       "        vertical-align: middle;\n",
       "    }\n",
       "\n",
       "    .dataframe tbody tr th {\n",
       "        vertical-align: top;\n",
       "    }\n",
       "\n",
       "    .dataframe thead th {\n",
       "        text-align: right;\n",
       "    }\n",
       "</style>\n",
       "<table border=\"1\" class=\"dataframe\">\n",
       "  <thead>\n",
       "    <tr style=\"text-align: right;\">\n",
       "      <th></th>\n",
       "      <th>Pregnancies</th>\n",
       "      <th>Glucose</th>\n",
       "      <th>BloodPressure</th>\n",
       "      <th>SkinThickness</th>\n",
       "      <th>Insulin</th>\n",
       "      <th>BMI</th>\n",
       "      <th>DiabetesPedigreeFunction</th>\n",
       "      <th>Age</th>\n",
       "      <th>Outcome</th>\n",
       "    </tr>\n",
       "  </thead>\n",
       "  <tbody>\n",
       "    <tr>\n",
       "      <th>0</th>\n",
       "      <td>6</td>\n",
       "      <td>148</td>\n",
       "      <td>72</td>\n",
       "      <td>35</td>\n",
       "      <td>0</td>\n",
       "      <td>33.6</td>\n",
       "      <td>0.627</td>\n",
       "      <td>50</td>\n",
       "      <td>1</td>\n",
       "    </tr>\n",
       "    <tr>\n",
       "      <th>1</th>\n",
       "      <td>1</td>\n",
       "      <td>85</td>\n",
       "      <td>66</td>\n",
       "      <td>29</td>\n",
       "      <td>0</td>\n",
       "      <td>26.6</td>\n",
       "      <td>0.351</td>\n",
       "      <td>31</td>\n",
       "      <td>0</td>\n",
       "    </tr>\n",
       "    <tr>\n",
       "      <th>2</th>\n",
       "      <td>8</td>\n",
       "      <td>183</td>\n",
       "      <td>64</td>\n",
       "      <td>0</td>\n",
       "      <td>0</td>\n",
       "      <td>23.3</td>\n",
       "      <td>0.672</td>\n",
       "      <td>32</td>\n",
       "      <td>1</td>\n",
       "    </tr>\n",
       "    <tr>\n",
       "      <th>3</th>\n",
       "      <td>1</td>\n",
       "      <td>89</td>\n",
       "      <td>66</td>\n",
       "      <td>23</td>\n",
       "      <td>94</td>\n",
       "      <td>28.1</td>\n",
       "      <td>0.167</td>\n",
       "      <td>21</td>\n",
       "      <td>0</td>\n",
       "    </tr>\n",
       "    <tr>\n",
       "      <th>4</th>\n",
       "      <td>0</td>\n",
       "      <td>137</td>\n",
       "      <td>40</td>\n",
       "      <td>35</td>\n",
       "      <td>168</td>\n",
       "      <td>43.1</td>\n",
       "      <td>2.288</td>\n",
       "      <td>33</td>\n",
       "      <td>1</td>\n",
       "    </tr>\n",
       "    <tr>\n",
       "      <th>...</th>\n",
       "      <td>...</td>\n",
       "      <td>...</td>\n",
       "      <td>...</td>\n",
       "      <td>...</td>\n",
       "      <td>...</td>\n",
       "      <td>...</td>\n",
       "      <td>...</td>\n",
       "      <td>...</td>\n",
       "      <td>...</td>\n",
       "    </tr>\n",
       "    <tr>\n",
       "      <th>763</th>\n",
       "      <td>10</td>\n",
       "      <td>101</td>\n",
       "      <td>76</td>\n",
       "      <td>48</td>\n",
       "      <td>180</td>\n",
       "      <td>32.9</td>\n",
       "      <td>0.171</td>\n",
       "      <td>63</td>\n",
       "      <td>0</td>\n",
       "    </tr>\n",
       "    <tr>\n",
       "      <th>764</th>\n",
       "      <td>2</td>\n",
       "      <td>122</td>\n",
       "      <td>70</td>\n",
       "      <td>27</td>\n",
       "      <td>0</td>\n",
       "      <td>36.8</td>\n",
       "      <td>0.340</td>\n",
       "      <td>27</td>\n",
       "      <td>0</td>\n",
       "    </tr>\n",
       "    <tr>\n",
       "      <th>765</th>\n",
       "      <td>5</td>\n",
       "      <td>121</td>\n",
       "      <td>72</td>\n",
       "      <td>23</td>\n",
       "      <td>112</td>\n",
       "      <td>26.2</td>\n",
       "      <td>0.245</td>\n",
       "      <td>30</td>\n",
       "      <td>0</td>\n",
       "    </tr>\n",
       "    <tr>\n",
       "      <th>766</th>\n",
       "      <td>1</td>\n",
       "      <td>126</td>\n",
       "      <td>60</td>\n",
       "      <td>0</td>\n",
       "      <td>0</td>\n",
       "      <td>30.1</td>\n",
       "      <td>0.349</td>\n",
       "      <td>47</td>\n",
       "      <td>1</td>\n",
       "    </tr>\n",
       "    <tr>\n",
       "      <th>767</th>\n",
       "      <td>1</td>\n",
       "      <td>93</td>\n",
       "      <td>70</td>\n",
       "      <td>31</td>\n",
       "      <td>0</td>\n",
       "      <td>30.4</td>\n",
       "      <td>0.315</td>\n",
       "      <td>23</td>\n",
       "      <td>0</td>\n",
       "    </tr>\n",
       "  </tbody>\n",
       "</table>\n",
       "<p>768 rows × 9 columns</p>\n",
       "</div>"
      ],
      "text/plain": [
       "     Pregnancies  Glucose  BloodPressure  SkinThickness  Insulin   BMI  \\\n",
       "0              6      148             72             35        0  33.6   \n",
       "1              1       85             66             29        0  26.6   \n",
       "2              8      183             64              0        0  23.3   \n",
       "3              1       89             66             23       94  28.1   \n",
       "4              0      137             40             35      168  43.1   \n",
       "..           ...      ...            ...            ...      ...   ...   \n",
       "763           10      101             76             48      180  32.9   \n",
       "764            2      122             70             27        0  36.8   \n",
       "765            5      121             72             23      112  26.2   \n",
       "766            1      126             60              0        0  30.1   \n",
       "767            1       93             70             31        0  30.4   \n",
       "\n",
       "     DiabetesPedigreeFunction  Age  Outcome  \n",
       "0                       0.627   50        1  \n",
       "1                       0.351   31        0  \n",
       "2                       0.672   32        1  \n",
       "3                       0.167   21        0  \n",
       "4                       2.288   33        1  \n",
       "..                        ...  ...      ...  \n",
       "763                     0.171   63        0  \n",
       "764                     0.340   27        0  \n",
       "765                     0.245   30        0  \n",
       "766                     0.349   47        1  \n",
       "767                     0.315   23        0  \n",
       "\n",
       "[768 rows x 9 columns]"
      ]
     },
     "execution_count": 2,
     "metadata": {},
     "output_type": "execute_result"
    }
   ],
   "source": [
    "#1 load dataset\n",
    "data = pd.read_csv('diabetes.csv')\n",
    "data"
   ]
  },
  {
   "cell_type": "code",
   "execution_count": 3,
   "id": "89d7f751",
   "metadata": {},
   "outputs": [
    {
     "data": {
      "text/plain": [
       "(768, 9)"
      ]
     },
     "execution_count": 3,
     "metadata": {},
     "output_type": "execute_result"
    }
   ],
   "source": [
    "data.shape"
   ]
  },
  {
   "cell_type": "code",
   "execution_count": 4,
   "id": "757216e5",
   "metadata": {},
   "outputs": [
    {
     "data": {
      "text/plain": [
       "Pregnancies                 0\n",
       "Glucose                     0\n",
       "BloodPressure               0\n",
       "SkinThickness               0\n",
       "Insulin                     0\n",
       "BMI                         0\n",
       "DiabetesPedigreeFunction    0\n",
       "Age                         0\n",
       "Outcome                     0\n",
       "dtype: int64"
      ]
     },
     "execution_count": 4,
     "metadata": {},
     "output_type": "execute_result"
    }
   ],
   "source": [
    "data.isna().sum()"
   ]
  },
  {
   "cell_type": "code",
   "execution_count": 5,
   "id": "6474e6fa",
   "metadata": {},
   "outputs": [
    {
     "name": "stdout",
     "output_type": "stream",
     "text": [
      "<class 'pandas.core.frame.DataFrame'>\n",
      "RangeIndex: 768 entries, 0 to 767\n",
      "Data columns (total 9 columns):\n",
      " #   Column                    Non-Null Count  Dtype  \n",
      "---  ------                    --------------  -----  \n",
      " 0   Pregnancies               768 non-null    int64  \n",
      " 1   Glucose                   768 non-null    int64  \n",
      " 2   BloodPressure             768 non-null    int64  \n",
      " 3   SkinThickness             768 non-null    int64  \n",
      " 4   Insulin                   768 non-null    int64  \n",
      " 5   BMI                       768 non-null    float64\n",
      " 6   DiabetesPedigreeFunction  768 non-null    float64\n",
      " 7   Age                       768 non-null    int64  \n",
      " 8   Outcome                   768 non-null    int64  \n",
      "dtypes: float64(2), int64(7)\n",
      "memory usage: 54.1 KB\n"
     ]
    }
   ],
   "source": [
    "data.info()"
   ]
  },
  {
   "cell_type": "code",
   "execution_count": 6,
   "id": "640a1b61",
   "metadata": {},
   "outputs": [
    {
     "data": {
      "text/html": [
       "<div>\n",
       "<style scoped>\n",
       "    .dataframe tbody tr th:only-of-type {\n",
       "        vertical-align: middle;\n",
       "    }\n",
       "\n",
       "    .dataframe tbody tr th {\n",
       "        vertical-align: top;\n",
       "    }\n",
       "\n",
       "    .dataframe thead th {\n",
       "        text-align: right;\n",
       "    }\n",
       "</style>\n",
       "<table border=\"1\" class=\"dataframe\">\n",
       "  <thead>\n",
       "    <tr style=\"text-align: right;\">\n",
       "      <th></th>\n",
       "      <th>Pregnancies</th>\n",
       "      <th>Glucose</th>\n",
       "      <th>BloodPressure</th>\n",
       "      <th>SkinThickness</th>\n",
       "      <th>Insulin</th>\n",
       "      <th>BMI</th>\n",
       "      <th>DiabetesPedigreeFunction</th>\n",
       "      <th>Age</th>\n",
       "      <th>Outcome</th>\n",
       "    </tr>\n",
       "  </thead>\n",
       "  <tbody>\n",
       "    <tr>\n",
       "      <th>count</th>\n",
       "      <td>768.000000</td>\n",
       "      <td>768.000000</td>\n",
       "      <td>768.000000</td>\n",
       "      <td>768.000000</td>\n",
       "      <td>768.000000</td>\n",
       "      <td>768.000000</td>\n",
       "      <td>768.000000</td>\n",
       "      <td>768.000000</td>\n",
       "      <td>768.000000</td>\n",
       "    </tr>\n",
       "    <tr>\n",
       "      <th>mean</th>\n",
       "      <td>3.845052</td>\n",
       "      <td>120.894531</td>\n",
       "      <td>69.105469</td>\n",
       "      <td>20.536458</td>\n",
       "      <td>79.799479</td>\n",
       "      <td>31.992578</td>\n",
       "      <td>0.471876</td>\n",
       "      <td>33.240885</td>\n",
       "      <td>0.348958</td>\n",
       "    </tr>\n",
       "    <tr>\n",
       "      <th>std</th>\n",
       "      <td>3.369578</td>\n",
       "      <td>31.972618</td>\n",
       "      <td>19.355807</td>\n",
       "      <td>15.952218</td>\n",
       "      <td>115.244002</td>\n",
       "      <td>7.884160</td>\n",
       "      <td>0.331329</td>\n",
       "      <td>11.760232</td>\n",
       "      <td>0.476951</td>\n",
       "    </tr>\n",
       "    <tr>\n",
       "      <th>min</th>\n",
       "      <td>0.000000</td>\n",
       "      <td>0.000000</td>\n",
       "      <td>0.000000</td>\n",
       "      <td>0.000000</td>\n",
       "      <td>0.000000</td>\n",
       "      <td>0.000000</td>\n",
       "      <td>0.078000</td>\n",
       "      <td>21.000000</td>\n",
       "      <td>0.000000</td>\n",
       "    </tr>\n",
       "    <tr>\n",
       "      <th>25%</th>\n",
       "      <td>1.000000</td>\n",
       "      <td>99.000000</td>\n",
       "      <td>62.000000</td>\n",
       "      <td>0.000000</td>\n",
       "      <td>0.000000</td>\n",
       "      <td>27.300000</td>\n",
       "      <td>0.243750</td>\n",
       "      <td>24.000000</td>\n",
       "      <td>0.000000</td>\n",
       "    </tr>\n",
       "    <tr>\n",
       "      <th>50%</th>\n",
       "      <td>3.000000</td>\n",
       "      <td>117.000000</td>\n",
       "      <td>72.000000</td>\n",
       "      <td>23.000000</td>\n",
       "      <td>30.500000</td>\n",
       "      <td>32.000000</td>\n",
       "      <td>0.372500</td>\n",
       "      <td>29.000000</td>\n",
       "      <td>0.000000</td>\n",
       "    </tr>\n",
       "    <tr>\n",
       "      <th>75%</th>\n",
       "      <td>6.000000</td>\n",
       "      <td>140.250000</td>\n",
       "      <td>80.000000</td>\n",
       "      <td>32.000000</td>\n",
       "      <td>127.250000</td>\n",
       "      <td>36.600000</td>\n",
       "      <td>0.626250</td>\n",
       "      <td>41.000000</td>\n",
       "      <td>1.000000</td>\n",
       "    </tr>\n",
       "    <tr>\n",
       "      <th>max</th>\n",
       "      <td>17.000000</td>\n",
       "      <td>199.000000</td>\n",
       "      <td>122.000000</td>\n",
       "      <td>99.000000</td>\n",
       "      <td>846.000000</td>\n",
       "      <td>67.100000</td>\n",
       "      <td>2.420000</td>\n",
       "      <td>81.000000</td>\n",
       "      <td>1.000000</td>\n",
       "    </tr>\n",
       "  </tbody>\n",
       "</table>\n",
       "</div>"
      ],
      "text/plain": [
       "       Pregnancies     Glucose  BloodPressure  SkinThickness     Insulin  \\\n",
       "count   768.000000  768.000000     768.000000     768.000000  768.000000   \n",
       "mean      3.845052  120.894531      69.105469      20.536458   79.799479   \n",
       "std       3.369578   31.972618      19.355807      15.952218  115.244002   \n",
       "min       0.000000    0.000000       0.000000       0.000000    0.000000   \n",
       "25%       1.000000   99.000000      62.000000       0.000000    0.000000   \n",
       "50%       3.000000  117.000000      72.000000      23.000000   30.500000   \n",
       "75%       6.000000  140.250000      80.000000      32.000000  127.250000   \n",
       "max      17.000000  199.000000     122.000000      99.000000  846.000000   \n",
       "\n",
       "              BMI  DiabetesPedigreeFunction         Age     Outcome  \n",
       "count  768.000000                768.000000  768.000000  768.000000  \n",
       "mean    31.992578                  0.471876   33.240885    0.348958  \n",
       "std      7.884160                  0.331329   11.760232    0.476951  \n",
       "min      0.000000                  0.078000   21.000000    0.000000  \n",
       "25%     27.300000                  0.243750   24.000000    0.000000  \n",
       "50%     32.000000                  0.372500   29.000000    0.000000  \n",
       "75%     36.600000                  0.626250   41.000000    1.000000  \n",
       "max     67.100000                  2.420000   81.000000    1.000000  "
      ]
     },
     "execution_count": 6,
     "metadata": {},
     "output_type": "execute_result"
    }
   ],
   "source": [
    "data.describe()"
   ]
  },
  {
   "cell_type": "code",
   "execution_count": 7,
   "id": "fd1573aa",
   "metadata": {},
   "outputs": [],
   "source": [
    "#2. extract data from outcome column is a variable y\n",
    "y = data[['Outcome']]"
   ]
  },
  {
   "cell_type": "code",
   "execution_count": 8,
   "id": "8f6a96e2",
   "metadata": {},
   "outputs": [],
   "source": [
    "#3. extract data from outcome column is a variable y\n",
    "x = data.drop(['Outcome'], axis=1)"
   ]
  },
  {
   "cell_type": "code",
   "execution_count": 9,
   "id": "48212e78",
   "metadata": {},
   "outputs": [],
   "source": [
    "#4.divide taining and tesing data in 70-30 ratio\n",
    "x_train,x_test,y_train,y_test = train_test_split(x,y, test_size=0.3, random_state=1)"
   ]
  },
  {
   "cell_type": "code",
   "execution_count": 10,
   "id": "a05bbb29",
   "metadata": {},
   "outputs": [
    {
     "data": {
      "text/plain": [
       "DecisionTreeClassifier(criterion='entropy', random_state=0)"
      ]
     },
     "execution_count": 10,
     "metadata": {},
     "output_type": "execute_result"
    }
   ],
   "source": [
    "#5. creating model\n",
    "from sklearn.preprocessing import StandardScaler    \n",
    "st_x= StandardScaler()  \n",
    "x_train= st_x.fit_transform(x_train)    \n",
    "x_test= st_x.transform(x_test) \n",
    "\n",
    "classifier= DecisionTreeClassifier(criterion='entropy', random_state=0)  \n",
    "classifier.fit(x_train, y_train)  "
   ]
  },
  {
   "cell_type": "code",
   "execution_count": 11,
   "id": "a3a4dc1a",
   "metadata": {},
   "outputs": [],
   "source": [
    "#6. Predicting the test set result  \n",
    "y_pred= classifier.predict(x_test)  "
   ]
  },
  {
   "cell_type": "code",
   "execution_count": 12,
   "id": "50e78e1b",
   "metadata": {},
   "outputs": [
    {
     "data": {
      "text/plain": [
       "array([[113,  33],\n",
       "       [ 32,  53]])"
      ]
     },
     "execution_count": 12,
     "metadata": {},
     "output_type": "execute_result"
    }
   ],
   "source": [
    "#7. Creating the Confusion matrix   \n",
    "cm= confusion_matrix(y_test, y_pred)  \n",
    "cm"
   ]
  },
  {
   "cell_type": "code",
   "execution_count": 14,
   "id": "0545c02e",
   "metadata": {},
   "outputs": [
    {
     "data": {
      "text/plain": [
       "[Text(296.77774390243906, 420.384, 'X[1] <= 0.208\\nentropy = 0.926\\nsamples = 537\\nvalue = [354, 183]'),\n",
       " Text(104.11463414634146, 391.392, 'X[5] <= -0.703\\nentropy = 0.72\\nsamples = 342\\nvalue = [274, 68]'),\n",
       " Text(32.66341463414634, 362.4, 'X[5] <= -2.965\\nentropy = 0.201\\nsamples = 96\\nvalue = [93, 3]'),\n",
       " Text(16.33170731707317, 333.408, 'X[1] <= -0.208\\nentropy = 0.918\\nsamples = 6\\nvalue = [4, 2]'),\n",
       " Text(8.165853658536586, 304.416, 'entropy = 0.0\\nsamples = 4\\nvalue = [4, 0]'),\n",
       " Text(24.49756097560976, 304.416, 'entropy = 0.0\\nsamples = 2\\nvalue = [0, 2]'),\n",
       " Text(48.99512195121952, 333.408, 'X[6] <= 0.603\\nentropy = 0.088\\nsamples = 90\\nvalue = [89, 1]'),\n",
       " Text(40.829268292682926, 304.416, 'entropy = 0.0\\nsamples = 75\\nvalue = [75, 0]'),\n",
       " Text(57.1609756097561, 304.416, 'X[6] <= 0.713\\nentropy = 0.353\\nsamples = 15\\nvalue = [14, 1]'),\n",
       " Text(48.99512195121952, 275.424, 'entropy = 0.0\\nsamples = 1\\nvalue = [0, 1]'),\n",
       " Text(65.32682926829268, 275.424, 'entropy = 0.0\\nsamples = 14\\nvalue = [14, 0]'),\n",
       " Text(175.56585365853658, 362.4, 'X[7] <= -0.486\\nentropy = 0.833\\nsamples = 246\\nvalue = [181, 65]'),\n",
       " Text(106.15609756097561, 333.408, 'X[5] <= -0.116\\nentropy = 0.544\\nsamples = 112\\nvalue = [98, 14]'),\n",
       " Text(89.82439024390244, 304.416, 'X[0] <= 0.967\\nentropy = 0.159\\nsamples = 43\\nvalue = [42, 1]'),\n",
       " Text(81.65853658536585, 275.424, 'entropy = 0.0\\nsamples = 42\\nvalue = [42, 0]'),\n",
       " Text(97.99024390243903, 275.424, 'entropy = 0.0\\nsamples = 1\\nvalue = [0, 1]'),\n",
       " Text(122.48780487804878, 304.416, 'X[7] <= -0.904\\nentropy = 0.698\\nsamples = 69\\nvalue = [56, 13]'),\n",
       " Text(114.3219512195122, 275.424, 'entropy = 0.0\\nsamples = 17\\nvalue = [17, 0]'),\n",
       " Text(130.65365853658537, 275.424, 'X[5] <= 1.769\\nentropy = 0.811\\nsamples = 52\\nvalue = [39, 13]'),\n",
       " Text(122.48780487804878, 246.432, 'X[5] <= 0.849\\nentropy = 0.76\\nsamples = 50\\nvalue = [39, 11]'),\n",
       " Text(114.3219512195122, 217.44, 'X[5] <= 0.79\\nentropy = 0.858\\nsamples = 39\\nvalue = [28, 11]'),\n",
       " Text(106.15609756097561, 188.44799999999998, 'X[2] <= 0.6\\nentropy = 0.8\\nsamples = 37\\nvalue = [28, 9]'),\n",
       " Text(97.99024390243903, 159.45599999999996, 'X[2] <= -0.794\\nentropy = 0.722\\nsamples = 35\\nvalue = [28, 7]'),\n",
       " Text(81.65853658536585, 130.464, 'X[6] <= -0.613\\nentropy = 0.811\\nsamples = 4\\nvalue = [1, 3]'),\n",
       " Text(73.49268292682927, 101.47199999999998, 'entropy = 0.0\\nsamples = 3\\nvalue = [0, 3]'),\n",
       " Text(89.82439024390244, 101.47199999999998, 'entropy = 0.0\\nsamples = 1\\nvalue = [1, 0]'),\n",
       " Text(114.3219512195122, 130.464, 'X[1] <= -0.465\\nentropy = 0.555\\nsamples = 31\\nvalue = [27, 4]'),\n",
       " Text(106.15609756097561, 101.47199999999998, 'entropy = 0.0\\nsamples = 17\\nvalue = [17, 0]'),\n",
       " Text(122.48780487804878, 101.47199999999998, 'X[0] <= -0.972\\nentropy = 0.863\\nsamples = 14\\nvalue = [10, 4]'),\n",
       " Text(114.3219512195122, 72.47999999999996, 'entropy = 0.0\\nsamples = 2\\nvalue = [0, 2]'),\n",
       " Text(130.65365853658537, 72.47999999999996, 'X[0] <= -0.375\\nentropy = 0.65\\nsamples = 12\\nvalue = [10, 2]'),\n",
       " Text(122.48780487804878, 43.488, 'entropy = 0.0\\nsamples = 8\\nvalue = [8, 0]'),\n",
       " Text(138.81951219512194, 43.488, 'X[7] <= -0.737\\nentropy = 1.0\\nsamples = 4\\nvalue = [2, 2]'),\n",
       " Text(130.65365853658537, 14.495999999999981, 'entropy = 0.0\\nsamples = 2\\nvalue = [2, 0]'),\n",
       " Text(146.98536585365855, 14.495999999999981, 'entropy = 0.0\\nsamples = 2\\nvalue = [0, 2]'),\n",
       " Text(114.3219512195122, 159.45599999999996, 'entropy = 0.0\\nsamples = 2\\nvalue = [0, 2]'),\n",
       " Text(122.48780487804878, 188.44799999999998, 'entropy = 0.0\\nsamples = 2\\nvalue = [0, 2]'),\n",
       " Text(130.65365853658537, 217.44, 'entropy = 0.0\\nsamples = 11\\nvalue = [11, 0]'),\n",
       " Text(138.81951219512194, 246.432, 'entropy = 0.0\\nsamples = 2\\nvalue = [0, 2]'),\n",
       " Text(244.97560975609755, 333.408, 'X[1] <= -1.009\\nentropy = 0.958\\nsamples = 134\\nvalue = [83, 51]'),\n",
       " Text(204.14634146341464, 304.416, 'X[0] <= 2.31\\nentropy = 0.267\\nsamples = 22\\nvalue = [21, 1]'),\n",
       " Text(195.98048780487807, 275.424, 'entropy = 0.0\\nsamples = 21\\nvalue = [21, 0]'),\n",
       " Text(212.31219512195122, 275.424, 'entropy = 0.0\\nsamples = 1\\nvalue = [0, 1]'),\n",
       " Text(285.8048780487805, 304.416, 'X[6] <= 0.453\\nentropy = 0.992\\nsamples = 112\\nvalue = [62, 50]'),\n",
       " Text(228.6439024390244, 275.424, 'X[3] <= 0.499\\nentropy = 0.931\\nsamples = 78\\nvalue = [51, 27]'),\n",
       " Text(195.98048780487807, 246.432, 'X[2] <= 0.699\\nentropy = 0.999\\nsamples = 46\\nvalue = [24, 22]'),\n",
       " Text(179.64878048780488, 217.44, 'X[7] <= 1.772\\nentropy = 0.974\\nsamples = 32\\nvalue = [13, 19]'),\n",
       " Text(171.4829268292683, 188.44799999999998, 'X[6] <= -0.906\\nentropy = 0.906\\nsamples = 28\\nvalue = [9, 19]'),\n",
       " Text(163.3170731707317, 159.45599999999996, 'entropy = 0.0\\nsamples = 2\\nvalue = [2, 0]'),\n",
       " Text(179.64878048780488, 159.45599999999996, 'X[0] <= 1.116\\nentropy = 0.84\\nsamples = 26\\nvalue = [7, 19]'),\n",
       " Text(163.3170731707317, 130.464, 'X[7] <= 0.099\\nentropy = 0.629\\nsamples = 19\\nvalue = [3, 16]'),\n",
       " Text(155.15121951219513, 101.47199999999998, 'X[1] <= -0.465\\nentropy = 1.0\\nsamples = 6\\nvalue = [3, 3]'),\n",
       " Text(146.98536585365855, 72.47999999999996, 'entropy = 0.0\\nsamples = 2\\nvalue = [0, 2]'),\n",
       " Text(163.3170731707317, 72.47999999999996, 'X[1] <= -0.24\\nentropy = 0.811\\nsamples = 4\\nvalue = [3, 1]'),\n",
       " Text(155.15121951219513, 43.488, 'entropy = 0.0\\nsamples = 2\\nvalue = [2, 0]'),\n",
       " Text(171.4829268292683, 43.488, 'X[6] <= -0.17\\nentropy = 1.0\\nsamples = 2\\nvalue = [1, 1]'),\n",
       " Text(163.3170731707317, 14.495999999999981, 'entropy = 0.0\\nsamples = 1\\nvalue = [0, 1]'),\n",
       " Text(179.64878048780488, 14.495999999999981, 'entropy = 0.0\\nsamples = 1\\nvalue = [1, 0]'),\n",
       " Text(171.4829268292683, 101.47199999999998, 'entropy = 0.0\\nsamples = 13\\nvalue = [0, 13]'),\n",
       " Text(195.98048780487807, 130.464, 'X[1] <= -0.449\\nentropy = 0.985\\nsamples = 7\\nvalue = [4, 3]'),\n",
       " Text(187.81463414634146, 101.47199999999998, 'entropy = 0.0\\nsamples = 3\\nvalue = [3, 0]'),\n",
       " Text(204.14634146341464, 101.47199999999998, 'X[1] <= -0.0\\nentropy = 0.811\\nsamples = 4\\nvalue = [1, 3]'),\n",
       " Text(195.98048780487807, 72.47999999999996, 'entropy = 0.0\\nsamples = 2\\nvalue = [0, 2]'),\n",
       " Text(212.31219512195122, 72.47999999999996, 'X[2] <= 0.002\\nentropy = 1.0\\nsamples = 2\\nvalue = [1, 1]'),\n",
       " Text(204.14634146341464, 43.488, 'entropy = 0.0\\nsamples = 1\\nvalue = [1, 0]'),\n",
       " Text(220.4780487804878, 43.488, 'entropy = 0.0\\nsamples = 1\\nvalue = [0, 1]'),\n",
       " Text(187.81463414634146, 188.44799999999998, 'entropy = 0.0\\nsamples = 4\\nvalue = [4, 0]'),\n",
       " Text(212.31219512195122, 217.44, 'X[5] <= 1.221\\nentropy = 0.75\\nsamples = 14\\nvalue = [11, 3]'),\n",
       " Text(204.14634146341464, 188.44799999999998, 'X[3] <= -0.097\\nentropy = 0.414\\nsamples = 12\\nvalue = [11, 1]'),\n",
       " Text(195.98048780487807, 159.45599999999996, 'entropy = 0.0\\nsamples = 11\\nvalue = [11, 0]'),\n",
       " Text(212.31219512195122, 159.45599999999996, 'entropy = 0.0\\nsamples = 1\\nvalue = [0, 1]'),\n",
       " Text(220.4780487804878, 188.44799999999998, 'entropy = 0.0\\nsamples = 2\\nvalue = [0, 2]'),\n",
       " Text(261.30731707317074, 246.432, 'X[5] <= 1.469\\nentropy = 0.625\\nsamples = 32\\nvalue = [27, 5]'),\n",
       " Text(244.97560975609755, 217.44, 'X[2] <= -0.097\\nentropy = 0.48\\nsamples = 29\\nvalue = [26, 3]'),\n",
       " Text(236.80975609756098, 188.44799999999998, 'X[1] <= -0.625\\nentropy = 0.954\\nsamples = 8\\nvalue = [5, 3]'),\n",
       " Text(228.6439024390244, 159.45599999999996, 'entropy = 0.0\\nsamples = 4\\nvalue = [4, 0]'),\n",
       " Text(244.97560975609755, 159.45599999999996, 'X[7] <= -0.235\\nentropy = 0.811\\nsamples = 4\\nvalue = [1, 3]'),\n",
       " Text(236.80975609756098, 130.464, 'entropy = 0.0\\nsamples = 1\\nvalue = [1, 0]'),\n",
       " Text(253.14146341463416, 130.464, 'entropy = 0.0\\nsamples = 3\\nvalue = [0, 3]'),\n",
       " Text(253.14146341463416, 188.44799999999998, 'entropy = 0.0\\nsamples = 21\\nvalue = [21, 0]'),\n",
       " Text(277.6390243902439, 217.44, 'X[1] <= -0.545\\nentropy = 0.918\\nsamples = 3\\nvalue = [1, 2]'),\n",
       " Text(269.47317073170734, 188.44799999999998, 'entropy = 0.0\\nsamples = 1\\nvalue = [1, 0]'),\n",
       " Text(285.8048780487805, 188.44799999999998, 'entropy = 0.0\\nsamples = 2\\nvalue = [0, 2]'),\n",
       " Text(342.9658536585366, 275.424, 'X[2] <= 0.898\\nentropy = 0.908\\nsamples = 34\\nvalue = [11, 23]'),\n",
       " Text(334.8, 246.432, 'X[0] <= 1.116\\nentropy = 0.784\\nsamples = 30\\nvalue = [7, 23]'),\n",
       " Text(326.6341463414634, 217.44, 'X[7] <= 0.016\\nentropy = 0.934\\nsamples = 20\\nvalue = [7, 13]'),\n",
       " Text(302.13658536585365, 188.44799999999998, 'X[3] <= 1.377\\nentropy = 0.544\\nsamples = 8\\nvalue = [1, 7]'),\n",
       " Text(293.9707317073171, 159.45599999999996, 'entropy = 0.0\\nsamples = 6\\nvalue = [0, 6]'),\n",
       " Text(310.30243902439025, 159.45599999999996, 'X[4] <= 0.861\\nentropy = 1.0\\nsamples = 2\\nvalue = [1, 1]'),\n",
       " Text(302.13658536585365, 130.464, 'entropy = 0.0\\nsamples = 1\\nvalue = [1, 0]'),\n",
       " Text(318.46829268292686, 130.464, 'entropy = 0.0\\nsamples = 1\\nvalue = [0, 1]'),\n",
       " Text(351.13170731707316, 188.44799999999998, 'X[1] <= -0.144\\nentropy = 1.0\\nsamples = 12\\nvalue = [6, 6]'),\n",
       " Text(342.9658536585366, 159.45599999999996, 'X[2] <= -0.047\\nentropy = 0.811\\nsamples = 8\\nvalue = [2, 6]'),\n",
       " Text(334.8, 130.464, 'X[4] <= -0.337\\nentropy = 0.918\\nsamples = 3\\nvalue = [2, 1]'),\n",
       " Text(326.6341463414634, 101.47199999999998, 'entropy = 0.0\\nsamples = 1\\nvalue = [0, 1]'),\n",
       " Text(342.9658536585366, 101.47199999999998, 'entropy = 0.0\\nsamples = 2\\nvalue = [2, 0]'),\n",
       " Text(351.13170731707316, 130.464, 'entropy = 0.0\\nsamples = 5\\nvalue = [0, 5]'),\n",
       " Text(359.29756097560977, 159.45599999999996, 'entropy = 0.0\\nsamples = 4\\nvalue = [4, 0]'),\n",
       " Text(342.9658536585366, 217.44, 'entropy = 0.0\\nsamples = 10\\nvalue = [0, 10]'),\n",
       " Text(351.13170731707316, 246.432, 'entropy = 0.0\\nsamples = 4\\nvalue = [4, 0]'),\n",
       " Text(489.4408536585366, 391.392, 'X[5] <= -0.481\\nentropy = 0.977\\nsamples = 195\\nvalue = [80, 115]'),\n",
       " Text(408.2926829268293, 362.4, 'X[1] <= 0.785\\nentropy = 0.82\\nsamples = 43\\nvalue = [32, 11]'),\n",
       " Text(391.96097560975613, 333.408, 'X[2] <= 0.201\\nentropy = 0.402\\nsamples = 25\\nvalue = [23, 2]'),\n",
       " Text(383.7951219512195, 304.416, 'X[2] <= 0.102\\nentropy = 0.722\\nsamples = 10\\nvalue = [8, 2]'),\n",
       " Text(375.6292682926829, 275.424, 'X[1] <= 0.272\\nentropy = 0.503\\nsamples = 9\\nvalue = [8, 1]'),\n",
       " Text(367.4634146341464, 246.432, 'entropy = 0.0\\nsamples = 1\\nvalue = [0, 1]'),\n",
       " Text(383.7951219512195, 246.432, 'entropy = 0.0\\nsamples = 8\\nvalue = [8, 0]'),\n",
       " Text(391.96097560975613, 275.424, 'entropy = 0.0\\nsamples = 1\\nvalue = [0, 1]'),\n",
       " Text(400.1268292682927, 304.416, 'entropy = 0.0\\nsamples = 15\\nvalue = [15, 0]'),\n",
       " Text(424.62439024390244, 333.408, 'X[0] <= -0.674\\nentropy = 1.0\\nsamples = 18\\nvalue = [9, 9]'),\n",
       " Text(416.45853658536583, 304.416, 'entropy = 0.0\\nsamples = 3\\nvalue = [3, 0]'),\n",
       " Text(432.79024390243904, 304.416, 'X[4] <= -0.262\\nentropy = 0.971\\nsamples = 15\\nvalue = [6, 9]'),\n",
       " Text(424.62439024390244, 275.424, 'X[6] <= -0.866\\nentropy = 0.994\\nsamples = 11\\nvalue = [6, 5]'),\n",
       " Text(416.45853658536583, 246.432, 'entropy = 0.0\\nsamples = 2\\nvalue = [0, 2]'),\n",
       " Text(432.79024390243904, 246.432, 'X[7] <= 1.688\\nentropy = 0.918\\nsamples = 9\\nvalue = [6, 3]'),\n",
       " Text(424.62439024390244, 217.44, 'X[5] <= -1.14\\nentropy = 1.0\\nsamples = 6\\nvalue = [3, 3]'),\n",
       " Text(416.45853658536583, 188.44799999999998, 'entropy = 0.0\\nsamples = 2\\nvalue = [2, 0]'),\n",
       " Text(432.79024390243904, 188.44799999999998, 'X[0] <= 1.116\\nentropy = 0.811\\nsamples = 4\\nvalue = [1, 3]'),\n",
       " Text(424.62439024390244, 159.45599999999996, 'X[5] <= -0.572\\nentropy = 1.0\\nsamples = 2\\nvalue = [1, 1]'),\n",
       " Text(416.45853658536583, 130.464, 'entropy = 0.0\\nsamples = 1\\nvalue = [1, 0]'),\n",
       " Text(432.79024390243904, 130.464, 'entropy = 0.0\\nsamples = 1\\nvalue = [0, 1]'),\n",
       " Text(440.9560975609756, 159.45599999999996, 'entropy = 0.0\\nsamples = 2\\nvalue = [0, 2]'),\n",
       " Text(440.9560975609756, 217.44, 'entropy = 0.0\\nsamples = 3\\nvalue = [3, 0]'),\n",
       " Text(440.9560975609756, 275.424, 'entropy = 0.0\\nsamples = 4\\nvalue = [0, 4]'),\n",
       " Text(570.5890243902439, 362.4, 'X[1] <= 1.201\\nentropy = 0.9\\nsamples = 152\\nvalue = [48, 104]'),\n",
       " Text(504.24146341463415, 333.408, 'X[7] <= -0.235\\nentropy = 0.985\\nsamples = 96\\nvalue = [41, 55]'),\n",
       " Text(473.61951219512196, 304.416, 'X[2] <= -0.396\\nentropy = 0.984\\nsamples = 47\\nvalue = [27, 20]'),\n",
       " Text(457.2878048780488, 275.424, 'X[5] <= -0.259\\nentropy = 0.722\\nsamples = 10\\nvalue = [2, 8]'),\n",
       " Text(449.1219512195122, 246.432, 'entropy = 0.0\\nsamples = 2\\nvalue = [2, 0]'),\n",
       " Text(465.45365853658535, 246.432, 'entropy = 0.0\\nsamples = 8\\nvalue = [0, 8]'),\n",
       " Text(489.9512195121951, 275.424, 'X[4] <= 1.621\\nentropy = 0.909\\nsamples = 37\\nvalue = [25, 12]'),\n",
       " Text(481.78536585365856, 246.432, 'X[2] <= 0.823\\nentropy = 0.991\\nsamples = 27\\nvalue = [15, 12]'),\n",
       " Text(473.61951219512196, 217.44, 'X[2] <= 0.4\\nentropy = 0.932\\nsamples = 23\\nvalue = [15, 8]'),\n",
       " Text(465.45365853658535, 188.44799999999998, 'X[2] <= -0.222\\nentropy = 1.0\\nsamples = 16\\nvalue = [8, 8]'),\n",
       " Text(457.2878048780488, 159.45599999999996, 'entropy = 0.0\\nsamples = 3\\nvalue = [3, 0]'),\n",
       " Text(473.61951219512196, 159.45599999999996, 'X[6] <= -0.16\\nentropy = 0.961\\nsamples = 13\\nvalue = [5, 8]'),\n",
       " Text(465.45365853658535, 130.464, 'X[0] <= -0.972\\nentropy = 0.954\\nsamples = 8\\nvalue = [5, 3]'),\n",
       " Text(457.2878048780488, 101.47199999999998, 'X[6] <= -0.857\\nentropy = 0.811\\nsamples = 4\\nvalue = [1, 3]'),\n",
       " Text(449.1219512195122, 72.47999999999996, 'entropy = 0.0\\nsamples = 1\\nvalue = [1, 0]'),\n",
       " Text(465.45365853658535, 72.47999999999996, 'entropy = 0.0\\nsamples = 3\\nvalue = [0, 3]'),\n",
       " Text(473.61951219512196, 101.47199999999998, 'entropy = 0.0\\nsamples = 4\\nvalue = [4, 0]'),\n",
       " Text(481.78536585365856, 130.464, 'entropy = 0.0\\nsamples = 5\\nvalue = [0, 5]'),\n",
       " Text(481.78536585365856, 188.44799999999998, 'entropy = 0.0\\nsamples = 7\\nvalue = [7, 0]'),\n",
       " Text(489.9512195121951, 217.44, 'entropy = 0.0\\nsamples = 4\\nvalue = [0, 4]'),\n",
       " Text(498.1170731707317, 246.432, 'entropy = 0.0\\nsamples = 10\\nvalue = [10, 0]'),\n",
       " Text(534.8634146341464, 304.416, 'X[7] <= 0.099\\nentropy = 0.863\\nsamples = 49\\nvalue = [14, 35]'),\n",
       " Text(526.6975609756098, 275.424, 'entropy = 0.0\\nsamples = 6\\nvalue = [0, 6]'),\n",
       " Text(543.0292682926829, 275.424, 'X[7] <= 0.685\\nentropy = 0.91\\nsamples = 43\\nvalue = [14, 29]'),\n",
       " Text(514.4487804878049, 246.432, 'X[5] <= 0.334\\nentropy = 0.997\\nsamples = 15\\nvalue = [8, 7]'),\n",
       " Text(506.2829268292683, 217.44, 'entropy = 0.0\\nsamples = 5\\nvalue = [5, 0]'),\n",
       " Text(522.6146341463415, 217.44, 'X[1] <= 0.272\\nentropy = 0.881\\nsamples = 10\\nvalue = [3, 7]'),\n",
       " Text(514.4487804878049, 188.44799999999998, 'entropy = 0.0\\nsamples = 2\\nvalue = [2, 0]'),\n",
       " Text(530.780487804878, 188.44799999999998, 'X[6] <= 1.793\\nentropy = 0.544\\nsamples = 8\\nvalue = [1, 7]'),\n",
       " Text(522.6146341463415, 159.45599999999996, 'entropy = 0.0\\nsamples = 7\\nvalue = [0, 7]'),\n",
       " Text(538.9463414634147, 159.45599999999996, 'entropy = 0.0\\nsamples = 1\\nvalue = [1, 0]'),\n",
       " Text(571.609756097561, 246.432, 'X[6] <= -0.74\\nentropy = 0.75\\nsamples = 28\\nvalue = [6, 22]'),\n",
       " Text(555.2780487804878, 217.44, 'X[6] <= -0.854\\nentropy = 0.985\\nsamples = 7\\nvalue = [4, 3]'),\n",
       " Text(547.1121951219512, 188.44799999999998, 'entropy = 0.0\\nsamples = 3\\nvalue = [0, 3]'),\n",
       " Text(563.4439024390244, 188.44799999999998, 'entropy = 0.0\\nsamples = 4\\nvalue = [4, 0]'),\n",
       " Text(587.9414634146342, 217.44, 'X[6] <= 3.302\\nentropy = 0.454\\nsamples = 21\\nvalue = [2, 19]'),\n",
       " Text(579.7756097560975, 188.44799999999998, 'X[2] <= -0.047\\nentropy = 0.286\\nsamples = 20\\nvalue = [1, 19]'),\n",
       " Text(571.609756097561, 159.45599999999996, 'X[3] <= 1.032\\nentropy = 1.0\\nsamples = 2\\nvalue = [1, 1]'),\n",
       " Text(563.4439024390244, 130.464, 'entropy = 0.0\\nsamples = 1\\nvalue = [0, 1]'),\n",
       " Text(579.7756097560975, 130.464, 'entropy = 0.0\\nsamples = 1\\nvalue = [1, 0]'),\n",
       " Text(587.9414634146342, 159.45599999999996, 'entropy = 0.0\\nsamples = 18\\nvalue = [0, 18]'),\n",
       " Text(596.1073170731707, 188.44799999999998, 'entropy = 0.0\\nsamples = 1\\nvalue = [1, 0]'),\n",
       " Text(636.9365853658537, 333.408, 'X[7] <= -0.235\\nentropy = 0.544\\nsamples = 56\\nvalue = [7, 49]'),\n",
       " Text(628.770731707317, 304.416, 'entropy = 0.0\\nsamples = 20\\nvalue = [0, 20]'),\n",
       " Text(645.1024390243903, 304.416, 'X[6] <= 2.624\\nentropy = 0.711\\nsamples = 36\\nvalue = [7, 29]'),\n",
       " Text(636.9365853658537, 275.424, 'X[5] <= 1.84\\nentropy = 0.602\\nsamples = 34\\nvalue = [5, 29]'),\n",
       " Text(628.770731707317, 246.432, 'X[6] <= -0.361\\nentropy = 0.533\\nsamples = 33\\nvalue = [4, 29]'),\n",
       " Text(620.6048780487805, 217.44, 'X[2] <= -0.147\\nentropy = 0.837\\nsamples = 15\\nvalue = [4, 11]'),\n",
       " Text(612.439024390244, 188.44799999999998, 'entropy = 0.0\\nsamples = 4\\nvalue = [0, 4]'),\n",
       " Text(628.770731707317, 188.44799999999998, 'X[7] <= -0.068\\nentropy = 0.946\\nsamples = 11\\nvalue = [4, 7]'),\n",
       " Text(620.6048780487805, 159.45599999999996, 'entropy = 0.0\\nsamples = 3\\nvalue = [0, 3]'),\n",
       " Text(636.9365853658537, 159.45599999999996, 'X[2] <= 0.251\\nentropy = 1.0\\nsamples = 8\\nvalue = [4, 4]'),\n",
       " Text(628.770731707317, 130.464, 'entropy = 0.0\\nsamples = 2\\nvalue = [2, 0]'),\n",
       " Text(645.1024390243903, 130.464, 'X[7] <= 1.27\\nentropy = 0.918\\nsamples = 6\\nvalue = [2, 4]'),\n",
       " Text(636.9365853658537, 101.47199999999998, 'entropy = 0.0\\nsamples = 3\\nvalue = [0, 3]'),\n",
       " Text(653.2682926829268, 101.47199999999998, 'X[1] <= 2.034\\nentropy = 0.918\\nsamples = 3\\nvalue = [2, 1]'),\n",
       " Text(645.1024390243903, 72.47999999999996, 'entropy = 0.0\\nsamples = 2\\nvalue = [2, 0]'),\n",
       " Text(661.4341463414635, 72.47999999999996, 'entropy = 0.0\\nsamples = 1\\nvalue = [0, 1]'),\n",
       " Text(636.9365853658537, 217.44, 'entropy = 0.0\\nsamples = 18\\nvalue = [0, 18]'),\n",
       " Text(645.1024390243903, 246.432, 'entropy = 0.0\\nsamples = 1\\nvalue = [1, 0]'),\n",
       " Text(653.2682926829268, 275.424, 'entropy = 0.0\\nsamples = 2\\nvalue = [2, 0]')]"
      ]
     },
     "execution_count": 14,
     "metadata": {},
     "output_type": "execute_result"
    },
    {
     "data": {
      "image/png": "[encoded data removed]",
      "text/plain": [
       "<Figure size 864x576 with 1 Axes>"
      ]
     },
     "metadata": {
      "needs_background": "light"
     },
     "output_type": "display_data"
    }
   ],
   "source": [
    "plt.figure(figsize=(12,8))\n",
    "\n",
    "from sklearn import tree\n",
    "\n",
    "tree.plot_tree(classifier.fit(x_train, y_train)) "
   ]
  },
  {
   "cell_type": "code",
   "execution_count": 23,
   "id": "8700fa83",
   "metadata": {},
   "outputs": [
    {
     "data": {
      "text/plain": [
       "array([1, 0, 0, 0, 0, 0, 0, 1, 0, 1, 0, 0, 1, 0, 0, 1, 0, 0, 0, 0, 1, 0,\n",
       "       1, 0, 0, 0, 0, 1, 1, 0, 0, 0, 0, 1, 0, 0, 0, 0, 0, 0, 0, 0, 0, 0,\n",
       "       0, 0, 0, 0, 1, 0, 0, 0, 1, 0, 1, 1, 1, 0, 0, 1, 1, 0, 1, 1, 0, 0,\n",
       "       1, 0, 1, 0, 1, 0, 0, 0, 1, 1, 0, 1, 0, 0, 1, 1, 1, 0, 0, 1, 0, 1,\n",
       "       1, 0, 1, 1, 0, 0, 1, 1, 1, 0, 1, 0, 0, 1, 0, 1, 0, 0, 0, 0, 0, 1,\n",
       "       1, 1, 0, 0, 0, 0, 1, 1, 0, 0, 0, 0, 0, 1, 1, 0, 0, 0, 0, 1, 0, 0,\n",
       "       0, 0, 0, 1, 0, 0, 0, 0, 1, 0, 0, 0, 1, 1, 0, 1, 0, 0, 0, 1, 0, 0,\n",
       "       0, 1, 1, 0, 0, 1, 0, 0, 0, 0, 0, 0, 0, 0, 1, 0, 1, 0, 1, 0, 1, 0,\n",
       "       0, 0, 0, 0, 0, 1, 0, 1, 1, 0, 1, 1, 1, 0, 1, 0, 0, 1, 1, 0, 1, 1,\n",
       "       1, 0, 0, 1, 0, 0, 0, 0, 0, 0, 0, 0, 0, 0, 1, 0, 0, 0, 0, 0, 1, 0,\n",
       "       0, 0, 0, 0, 1, 0, 1, 0, 0, 0, 0, 0, 0, 0, 0, 0, 1, 0, 1, 0, 0, 1,\n",
       "       1, 0, 0, 0, 0, 0, 0, 0, 1, 0, 0, 1, 0, 0, 0, 0, 1, 1, 0, 0, 0, 0,\n",
       "       0, 0, 1, 0, 1, 1, 0, 0, 1, 0, 0, 0, 0, 0, 1, 0, 0, 0, 0, 0, 1, 1,\n",
       "       0, 0, 1, 1, 0, 0, 1, 0, 0, 0, 0, 0, 0, 1, 0, 0, 0, 1, 1, 0, 1, 1,\n",
       "       1, 0, 0, 0, 0, 1, 0, 1, 0, 0, 0, 0, 1, 0, 0, 0, 1, 0, 1, 0, 1, 1,\n",
       "       0, 1, 0, 0, 0, 0, 0, 0, 1, 0, 0, 1, 0, 0, 1, 0, 0, 0, 0, 1, 0, 0,\n",
       "       0, 1, 0, 1, 0, 0, 0, 0, 0, 1, 1, 1, 0, 0, 0, 0, 1, 1, 1, 1, 1, 1,\n",
       "       1, 0, 0, 0, 1, 0, 0, 0, 0, 1, 0, 1, 0, 0, 1, 0, 0, 1, 0, 0, 0, 0,\n",
       "       0, 1, 0, 1, 0, 1, 0, 1, 0, 0, 0, 1, 0, 1, 1, 0, 0, 1, 1, 0, 0, 0,\n",
       "       1, 1, 0, 0, 1, 1, 0, 0, 1, 0, 0, 0, 1, 0, 0, 0, 1, 1, 0, 0, 0, 0,\n",
       "       0, 0, 0, 0, 0, 0, 0, 1, 1, 0, 0, 0, 1, 0, 1, 0, 1, 0, 0, 0, 1, 0,\n",
       "       1, 1, 1, 1, 0, 0, 0, 1, 0, 0, 0, 0, 0, 1, 0, 1, 1, 0, 0, 0, 0, 1,\n",
       "       1, 1, 0, 1, 0, 1, 0, 1, 0, 1, 0, 0, 0, 0, 0, 0, 1, 1, 0, 0, 0, 0,\n",
       "       1, 0, 0, 0, 0, 0, 0, 1, 1, 0, 0, 0, 0, 0, 1, 1, 1, 1, 0, 0, 0, 0,\n",
       "       1, 0, 1, 0, 0, 1, 1, 1, 1])"
      ]
     },
     "execution_count": 23,
     "metadata": {},
     "output_type": "execute_result"
    }
   ],
   "source": [
    "#Predict the value using X train for accuracy comparision \n",
    "y_pred_train_entrophy = classifier.predict(x_train)\n",
    "\n",
    "y_pred_train_entrophy"
   ]
  },
  {
   "cell_type": "code",
   "execution_count": 31,
   "id": "cec18b89",
   "metadata": {},
   "outputs": [
    {
     "name": "stdout",
     "output_type": "stream",
     "text": [
      "Model accuracy score with criterion entrophy index: 0.7186\n",
      "Training-set accuracy score: 1.0000\n"
     ]
    }
   ],
   "source": [
    "from sklearn.metrics import accuracy_score, classification_report ,f1_score\n",
    "print('Model accuracy score with criterion entrophy index: {0:0.4f}'. format(accuracy_score(y_test, y_pred)))\n",
    "#Accuracy Score for training set\n",
    "print('Training-set accuracy score: {0:0.4f}'. format(accuracy_score(y_train, y_pred_train_gini)))"
   ]
  },
  {
   "cell_type": "code",
   "execution_count": 32,
   "id": "caecf17e",
   "metadata": {},
   "outputs": [
    {
     "name": "stdout",
     "output_type": "stream",
     "text": [
      "              precision    recall  f1-score   support\n",
      "\n",
      "           0       0.78      0.77      0.78       146\n",
      "           1       0.62      0.62      0.62        85\n",
      "\n",
      "    accuracy                           0.72       231\n",
      "   macro avg       0.70      0.70      0.70       231\n",
      "weighted avg       0.72      0.72      0.72       231\n",
      "\n"
     ]
    }
   ],
   "source": [
    "print(classification_report(y_test, y_pred))"
   ]
  },
  {
   "cell_type": "code",
   "execution_count": 34,
   "id": "1aef2ef8",
   "metadata": {},
   "outputs": [
    {
     "data": {
      "text/plain": [
       "DecisionTreeClassifier(max_depth=3, random_state=0)"
      ]
     },
     "execution_count": 34,
     "metadata": {},
     "output_type": "execute_result"
    }
   ],
   "source": [
    "#with gini index\n",
    "\n",
    "clf_gini = DecisionTreeClassifier(criterion='gini', max_depth=3, random_state=0)\n",
    "\n",
    "\n",
    "# fit the model\n",
    "clf_gini.fit(x_train, y_train)"
   ]
  },
  {
   "cell_type": "code",
   "execution_count": 35,
   "id": "9e1b2855",
   "metadata": {},
   "outputs": [
    {
     "data": {
      "text/plain": [
       "[Text(334.8, 380.52, 'X[1] <= 0.272\\ngini = 0.449\\nsamples = 537\\nvalue = [354, 183]'),\n",
       " Text(167.4, 271.8, 'X[5] <= -0.722\\ngini = 0.329\\nsamples = 357\\nvalue = [283, 74]'),\n",
       " Text(83.7, 163.07999999999998, 'X[5] <= -2.965\\ngini = 0.06\\nsamples = 97\\nvalue = [94, 3]'),\n",
       " Text(41.85, 54.360000000000014, 'gini = 0.444\\nsamples = 6\\nvalue = [4, 2]'),\n",
       " Text(125.55000000000001, 54.360000000000014, 'gini = 0.022\\nsamples = 91\\nvalue = [90, 1]'),\n",
       " Text(251.10000000000002, 163.07999999999998, 'X[7] <= -0.486\\ngini = 0.397\\nsamples = 260\\nvalue = [189, 71]'),\n",
       " Text(209.25, 54.360000000000014, 'gini = 0.243\\nsamples = 120\\nvalue = [103, 17]'),\n",
       " Text(292.95, 54.360000000000014, 'gini = 0.474\\nsamples = 140\\nvalue = [86, 54]'),\n",
       " Text(502.20000000000005, 271.8, 'X[5] <= -0.52\\ngini = 0.478\\nsamples = 180\\nvalue = [71, 109]'),\n",
       " Text(418.5, 163.07999999999998, 'X[1] <= 0.785\\ngini = 0.375\\nsamples = 36\\nvalue = [27, 9]'),\n",
       " Text(376.65000000000003, 54.360000000000014, 'gini = 0.1\\nsamples = 19\\nvalue = [18, 1]'),\n",
       " Text(460.35, 54.360000000000014, 'gini = 0.498\\nsamples = 17\\nvalue = [9, 8]'),\n",
       " Text(585.9, 163.07999999999998, 'X[1] <= 1.201\\ngini = 0.424\\nsamples = 144\\nvalue = [44, 100]'),\n",
       " Text(544.0500000000001, 54.360000000000014, 'gini = 0.487\\nsamples = 88\\nvalue = [37, 51]'),\n",
       " Text(627.75, 54.360000000000014, 'gini = 0.219\\nsamples = 56\\nvalue = [7, 49]')]"
      ]
     },
     "execution_count": 35,
     "metadata": {},
     "output_type": "execute_result"
    },
    {
     "data": {
      "image/png": "[encoded data removed]",
      "text/plain": [
       "<Figure size 864x576 with 1 Axes>"
      ]
     },
     "metadata": {
      "needs_background": "light"
     },
     "output_type": "display_data"
    }
   ],
   "source": [
    "plt.figure(figsize=(12,8))\n",
    "\n",
    "tree.plot_tree(clf_gini.fit(x_train, y_train)) "
   ]
  },
  {
   "cell_type": "code",
   "execution_count": 37,
   "id": "44db93e0",
   "metadata": {},
   "outputs": [
    {
     "data": {
      "text/plain": [
       "array([1, 0, 0, 0, 0, 1, 0, 1, 0, 1, 0, 0, 0, 0, 0, 0, 0, 0, 0, 0, 1, 0,\n",
       "       0, 0, 0, 0, 0, 0, 1, 1, 0, 0, 0, 0, 0, 0, 0, 0, 1, 0, 0, 0, 0, 0,\n",
       "       1, 0, 1, 0, 0, 0, 0, 0, 0, 0, 1, 1, 0, 0, 1, 1, 1, 0, 0, 0, 1, 0,\n",
       "       0, 0, 1, 0, 1, 0, 1, 0, 0, 0, 0, 0, 0, 0, 0, 0, 1, 0, 0, 1, 0, 0,\n",
       "       1, 0, 1, 0, 0, 1, 1, 0, 1, 0, 1, 0, 0, 1, 1, 1, 0, 1, 0, 0, 0, 1,\n",
       "       1, 0, 0, 0, 0, 0, 1, 1, 0, 0, 0, 1, 0, 1, 1, 0, 0, 0, 0, 1, 0, 0,\n",
       "       0, 0, 0, 0, 0, 0, 0, 0, 0, 0, 0, 0, 0, 0, 0, 1, 1, 0, 0, 1, 0, 0,\n",
       "       0, 0, 0, 0, 0, 1, 0, 0, 1, 0, 0, 0, 0, 0, 0, 0, 0, 0, 1, 0, 1, 1,\n",
       "       0, 0, 0, 0, 1, 0, 0, 1, 1, 0, 1, 0, 1, 0, 1, 0, 0, 0, 1, 0, 0, 1,\n",
       "       0, 0, 0, 1, 0, 0, 0, 1, 0, 0, 0, 1, 0, 1, 1, 0, 0, 0, 0, 0, 0, 0,\n",
       "       1, 0, 0, 0, 0, 0, 1, 0, 0, 1, 0, 0, 0, 0, 1, 0, 0, 0, 1, 0, 0, 1,\n",
       "       1, 0, 0, 0, 0, 0, 0, 0, 1, 0, 0, 0, 0, 0, 0, 0, 1, 1, 0, 1, 0, 0,\n",
       "       0, 0, 1, 0, 1, 0, 0, 1, 1, 0, 0, 0, 0, 0, 1, 0, 0, 1, 0, 0, 1, 0,\n",
       "       0, 0, 1, 0, 0, 0, 0, 0, 0, 0, 0, 0, 0, 1, 0, 0, 0, 1, 0, 0, 1, 0,\n",
       "       1, 0, 0, 0, 0, 1, 0, 0, 0, 0, 0, 0, 0, 0, 0, 0, 1, 0, 0, 1, 1, 1,\n",
       "       0, 0, 0, 1, 0, 0, 0, 0, 1, 1, 0, 1, 0, 0, 0, 0, 0, 0, 0, 0, 0, 0,\n",
       "       0, 0, 0, 1, 0, 1, 0, 0, 0, 1, 0, 1, 0, 0, 0, 0, 1, 0, 0, 0, 0, 1,\n",
       "       1, 0, 0, 0, 1, 0, 0, 0, 1, 0, 0, 0, 0, 0, 1, 0, 1, 1, 0, 0, 0, 0,\n",
       "       0, 1, 0, 0, 0, 0, 0, 0, 0, 0, 1, 0, 1, 1, 1, 0, 0, 1, 1, 0, 0, 0,\n",
       "       1, 1, 0, 0, 0, 1, 0, 0, 0, 0, 0, 0, 0, 1, 0, 0, 1, 1, 0, 0, 1, 0,\n",
       "       0, 0, 0, 1, 0, 0, 0, 1, 0, 0, 0, 0, 1, 0, 0, 0, 1, 0, 0, 0, 1, 1,\n",
       "       1, 0, 1, 0, 0, 0, 0, 1, 0, 0, 1, 1, 0, 0, 0, 0, 0, 0, 0, 0, 0, 1,\n",
       "       1, 1, 0, 1, 0, 1, 0, 0, 1, 0, 0, 0, 0, 1, 0, 0, 0, 1, 0, 0, 0, 0,\n",
       "       0, 0, 0, 0, 0, 0, 0, 1, 1, 0, 0, 0, 0, 0, 0, 0, 0, 0, 1, 0, 0, 0,\n",
       "       0, 0, 0, 1, 1, 1, 0, 1, 0])"
      ]
     },
     "execution_count": 37,
     "metadata": {},
     "output_type": "execute_result"
    }
   ],
   "source": [
    "y_pred_gini = clf_gini.predict(x_test)\n",
    "\n",
    "y_pred_train_gini = clf_gini.predict(x_train)\n",
    "\n",
    "y_pred_train_gini"
   ]
  },
  {
   "cell_type": "code",
   "execution_count": 38,
   "id": "e373040b",
   "metadata": {},
   "outputs": [
    {
     "name": "stdout",
     "output_type": "stream",
     "text": [
      "Model accuracy score with criterion gini index: 0.7576\n",
      "Training-set accuracy score: 0.7635\n"
     ]
    }
   ],
   "source": [
    "print('Model accuracy score with criterion gini index: {0:0.4f}'. format(accuracy_score(y_test, y_pred_gini)))\n",
    "#Accuracy Score for training set\n",
    "print('Training-set accuracy score: {0:0.4f}'. format(accuracy_score(y_train, y_pred_train_gini)))"
   ]
  },
  {
   "cell_type": "code",
   "execution_count": null,
   "id": "c8492b10",
   "metadata": {},
   "outputs": [],
   "source": []
  }
 ],
 "metadata": {
  "kernelspec": {
   "display_name": "Python 3 (ipykernel)",
   "language": "python",
   "name": "python3"
  },
  "language_info": {
   "codemirror_mode": {
    "name": "ipython",
    "version": 3
   },
   "file_extension": ".py",
   "mimetype": "text/x-python",
   "name": "python",
   "nbconvert_exporter": "python",
   "pygments_lexer": "ipython3",
   "version": "3.9.7"
  }
 },
 "nbformat": 4,
 "nbformat_minor": 5
}
